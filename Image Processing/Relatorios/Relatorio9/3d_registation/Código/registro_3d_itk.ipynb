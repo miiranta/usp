{
 "cells": [
  {
   "cell_type": "markdown",
   "id": "384a01b2",
   "metadata": {},
   "source": [
    "\n",
    "# 🧪 Prática de Laboratório: Co-registro de Imagens 3D com ITK em Python\n",
    "\n",
    "## 🎯 Objetivo\n",
    "Aplicar técnicas de co-registro (alinhamento) de imagens tridimensionais médicas utilizando a biblioteca ITK, explorando conceitos de transformações espaciais, interpolação e métricas de similaridade.\n",
    "\n",
    "---\n",
    "\n",
    "## 📚 Conteúdo Abordado\n",
    "- Leitura e visualização de imagens médicas 3D (formato NIfTI ou DICOM)\n",
    "- Pré-processamento de imagens\n",
    "- Registro rígido e afim entre volumes\n",
    "- Avaliação da qualidade do registro\n",
    "- Visualização de resultados\n",
    "\n",
    "---\n",
    "\n",
    "## 🛠️ Ferramentas Necessárias\n",
    "- Python 3.8+\n",
    "- Bibliotecas: `itk`, `matplotlib`, `numpy`, `SimpleITK` (opcional para visualização)\n",
    "- Conjunto de dados: dois volumes 3D (ex: imagens de ressonância magnética de crânio em tempos diferentes)\n",
    "\n",
    "---\n",
    "\n",
    "## 📁 Estrutura da Atividade\n"
   ]
  },
  {
   "cell_type": "code",
   "execution_count": null,
   "id": "6d0bf512",
   "metadata": {},
   "outputs": [],
   "source": [
    "\n",
    "import itk\n",
    "import numpy as np\n",
    "import matplotlib.pyplot as plt\n",
    "\n",
    "# Leitura das imagens\n",
    "fixed_image = itk.imread(\"fixed.nii.gz\", itk.F)\n",
    "moving_image = itk.imread(\"moving.nii.gz\", itk.F)\n"
   ]
  },
  {
   "cell_type": "code",
   "execution_count": null,
   "id": "d9a4c933",
   "metadata": {},
   "outputs": [],
   "source": [
    "\n",
    "Dimension = 3\n",
    "TransformType = itk.CenteredTransformInitializer[\n",
    "    itk.Euler3DTransform[itk.D], itk.Image[itk.F, Dimension], itk.Image[itk.F, Dimension]\n",
    "]\n"
   ]
  },
  {
   "cell_type": "code",
   "execution_count": null,
   "id": "2458b2ea",
   "metadata": {},
   "outputs": [],
   "source": [
    "\n",
    "registration = itk.ImageRegistrationMethodv4.New(FixedImage=fixed_image, MovingImage=moving_image)\n",
    "registration.SetMetricAsMattesMutualInformation()\n",
    "registration.SetOptimizerAsGradientDescent(LearningRate=1.0, NumberOfIterations=100)\n"
   ]
  },
  {
   "cell_type": "code",
   "execution_count": null,
   "id": "5c76111d",
   "metadata": {},
   "outputs": [],
   "source": [
    "\n",
    "registration.Update()\n",
    "result_image = itk.resample_image_filter(moving_image, transform=registration.GetTransform(), reference_image=fixed_image)\n"
   ]
  },
  {
   "cell_type": "code",
   "execution_count": null,
   "id": "84fe9089",
   "metadata": {},
   "outputs": [],
   "source": [
    "\n",
    "def show_slice(image, slice_index):\n",
    "    array = itk.GetArrayFromImage(image)\n",
    "    plt.imshow(array[slice_index], cmap='gray')\n",
    "    plt.title(f\"Slice {slice_index}\")\n",
    "    plt.axis('off')\n",
    "    plt.show()\n",
    "\n",
    "show_slice(fixed_image, 60)\n",
    "show_slice(result_image, 60)\n"
   ]
  },
  {
   "cell_type": "markdown",
   "id": "348400f5",
   "metadata": {},
   "source": [
    "\n",
    "## 🧠 Tarefas Propostas\n",
    "1. Altere o tipo de transformação para afim e observe os resultados.\n",
    "2. Experimente diferentes métricas de similaridade (ex: MeanSquares).\n",
    "3. Avalie visualmente o alinhamento entre as imagens.\n",
    "4. (Desafio) Implemente um pipeline de registro multirresolução.\n",
    "\n",
    "---\n",
    "\n",
    "## ✅ Critérios de Avaliação\n",
    "- Funcionamento correto do pipeline de registro\n",
    "- Clareza na visualização dos resultados\n",
    "- Discussão sobre a qualidade do registro\n",
    "- Criatividade na exploração de parâmetros\n"
   ]
  }
 ],
 "metadata": {
  "language_info": {
   "name": "python"
  }
 },
 "nbformat": 4,
 "nbformat_minor": 5
}
